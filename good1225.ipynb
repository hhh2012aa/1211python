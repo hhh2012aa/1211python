{
 "cells": [
  {
   "cell_type": "code",
   "execution_count": 23,
   "metadata": {},
   "outputs": [],
   "source": [
    "import sklearn\n",
    "import pandas as pd\n",
    "import matplotlib.pyplot as plt \n",
    "import numpy as np\n",
    "from sklearn.tree import DecisionTreeClassifier\n",
    "from sklearn import metrics\n",
    "import sklearn.preprocessing\n",
    "from sklearn.model_selection import train_test_split\n",
    "from sklearn.preprocessing import StandardScaler\n",
    "from sklearn.ensemble import RandomForestClassifier\n",
    "from sklearn import preprocessing"
   ]
  },
  {
   "cell_type": "code",
   "execution_count": 24,
   "metadata": {},
   "outputs": [
    {
     "name": "stderr",
     "output_type": "stream",
     "text": [
      "c:\\users\\user\\appdata\\local\\programs\\python\\python37\\lib\\site-packages\\IPython\\core\\interactiveshell.py:3049: DtypeWarning: Columns (0,18,25,26) have mixed types. Specify dtype option on import or set low_memory=False.\n",
      "  interactivity=interactivity, compiler=compiler, result=result)\n",
      "c:\\users\\user\\appdata\\local\\programs\\python\\python37\\lib\\site-packages\\IPython\\core\\interactiveshell.py:3049: DtypeWarning: Columns (1,20,50,60,130,131,132,135,136,137,140) have mixed types. Specify dtype option on import or set low_memory=False.\n",
      "  interactivity=interactivity, compiler=compiler, result=result)\n"
     ]
    }
   ],
   "source": [
    "df1 = pd.read_csv(\"a1.csv\", skiprows = 1)\n",
    "df2 = pd.read_csv(\"new.csv\")\n",
    "isfloat = []\n",
    "for i in range(len(df1.columns)):\n",
    "    if str(df1.dtypes[i]) == 'float64':\n",
    "        isfloat.append(df1.columns[i])\n",
    "\n",
    "\n",
    "isfloat.append('loan_status')\n"
   ]
  },
  {
   "cell_type": "code",
   "execution_count": 25,
   "metadata": {},
   "outputs": [],
   "source": [
    "\n",
    "\"\"\"\n",
    "df2['loan_status'].value_counts()\n",
    "df2['loan_amnt'].value_counts()\n",
    "df2['mths_since_recent_bc'].value_counts()\n",
    "df2['acc_open_past_24mths'].value_counts()\n",
    "\n",
    "\"\"\"\n",
    "loan_status_map = {'Fully Paid': 0, 'Charged Off': 1}\n",
    "df2['loan_status'] = df2['loan_status'].map(loan_status_map)\n",
    "df2['int_rate'] = df2['int_rate'].str.replace(\"%\",\"\")\n",
    "grade_map = {'A':0, 'B':1, 'C':2, 'D':3, 'E':4, 'F':5}\n",
    "df2['grade'] = df2['grade'].map(grade_map)\n",
    "xy = df2[isfloat].dropna()\n",
    "\n",
    "\n"
   ]
  },
  {
   "cell_type": "code",
   "execution_count": 26,
   "metadata": {},
   "outputs": [],
   "source": [
    "def main123(list1):\n",
    "    xy.reset_index(drop=True, inplace=True)\n",
    "    len1 = int(len(xy['loan_amnt'])/2)\n",
    "    #data1 = xy['loan_status'].tolist()\n",
    "\n",
    "    \"\"\"\n",
    "    for i in range(len1):\n",
    "        if data1[i] == 0:\n",
    "            xy.drop([i])\n",
    "        if i%1000 == 0:\n",
    "            print(i)\n",
    "    \"\"\"\n",
    "\n",
    "    x = xy[list1]\n",
    "    y = xy['loan_status']\n",
    "    x_train,x_test,y_train,y_test=train_test_split(x,y,test_size = 0.3,random_state = 15513)\n",
    "    min_max_scaler = preprocessing.MinMaxScaler()  \n",
    "    x_train_nor = min_max_scaler.fit_transform(x_train)\n",
    "    x_test_nor = min_max_scaler.transform(x_test)\n",
    "    for i in range(5,35):\n",
    "        tree = DecisionTreeClassifier(criterion = 'gini', random_state = 15513,max_depth = i)\n",
    "        tree_clf = tree.fit(x_train_nor,y_train)\n",
    "        y_test_predicted = tree_clf.predict(x_test_nor)\n",
    "        y_train_predicted = tree_clf.predict(x_train_nor)\n",
    "        accuracy = metrics.accuracy_score(y_test, y_test_predicted)\n",
    "        #auc1 = metrics.confusion_matrix(y_train, y_train_predicted)\n",
    "        auc = metrics.confusion_matrix(y_test, y_test_predicted)\n",
    "        if accuracy >= 0.87:\n",
    "            print(x_train.columns, auc,accuracy,i)\n",
    "        \n",
    "        \n",
    "    \n",
    "    \"\"\"\n",
    "    plt.plot(x_train_nor,y_train,'b.')\n",
    "    plt.plot(x_test_nor,y_test_predicted,'r.-')\n",
    "    plt.title('max_depth=3')\n",
    "    \"\"\""
   ]
  },
  {
   "cell_type": "code",
   "execution_count": null,
   "metadata": {},
   "outputs": [
    {
     "name": "stdout",
     "output_type": "stream",
     "text": [
      "Index(['annual_inc', 'inq_last_6mths', 'installment', 'last_fico_range_high',\n",
      "       'funded_amnt_inv'],\n",
      "      dtype='object') [[93809  6843]\n",
      " [ 9261 14160]] 0.8702054435695115 8\n",
      "Index(['annual_inc', 'inq_last_6mths', 'installment', 'last_fico_range_high',\n",
      "       'funded_amnt_inv'],\n",
      "      dtype='object') [[94708  5944]\n",
      " [10064 13357]] 0.8709791816108259 9\n",
      "Index(['annual_inc', 'inq_last_6mths', 'installment', 'last_fico_range_high',\n",
      "       'funded_amnt_inv'],\n",
      "      dtype='object') [[94643  6009]\n",
      " [10093 13328]] 0.8702215631120389 10\n",
      "Index(['last_fico_range_high', 'installment', 'annual_inc', 'loan_amnt',\n",
      "       'pub_rec'],\n",
      "      dtype='object') [[93849  6803]\n",
      " [ 9303 14118]] 0.8701893240269841 8\n",
      "Index(['last_fico_range_high', 'installment', 'annual_inc', 'loan_amnt',\n",
      "       'pub_rec'],\n",
      "      dtype='object') [[94575  6077]\n",
      " [ 9972 13449]] 0.8706487309890145 9\n",
      "Index(['last_fico_range_high', 'installment', 'annual_inc', 'loan_amnt',\n",
      "       'pub_rec'],\n",
      "      dtype='object') [[94365  6287]\n",
      " [ 9818 13603]] 0.8701973837982478 10\n",
      "Index(['fico_range_high', 'pub_rec_bankruptcies', 'annual_inc', 'installment',\n",
      "       'funded_amnt_inv', 'last_fico_range_low'],\n",
      "      dtype='object') [[93853  6799]\n",
      " [ 9271 14150]] 0.870479475792477 8\n",
      "Index(['fico_range_high', 'pub_rec_bankruptcies', 'annual_inc', 'installment',\n",
      "       'funded_amnt_inv', 'last_fico_range_low'],\n",
      "      dtype='object') [[94611  6041]\n",
      " [10011 13410]] 0.8706245516752235 9\n",
      "Index(['fico_range_high', 'pub_rec_bankruptcies', 'annual_inc', 'installment',\n",
      "       'funded_amnt_inv', 'last_fico_range_low'],\n",
      "      dtype='object') [[94730  5922]\n",
      " [10192 13229]] 0.8701248458568746 10\n"
     ]
    }
   ],
   "source": [
    "from itertools import product\n",
    "from random import sample \n",
    "isfloat1 = isfloat[:-1]\n",
    "\n",
    "for i in range(5,len(isfloat1)):\n",
    "    for j in range(100):\n",
    "        list_input = sample(isfloat1,i)\n",
    "        main123(list_input)"
   ]
  },
  {
   "cell_type": "code",
   "execution_count": null,
   "metadata": {},
   "outputs": [],
   "source": [
    "isfloat"
   ]
  },
  {
   "cell_type": "code",
   "execution_count": null,
   "metadata": {},
   "outputs": [],
   "source": []
  }
 ],
 "metadata": {
  "kernelspec": {
   "display_name": "Python 3",
   "language": "python",
   "name": "python3"
  },
  "language_info": {
   "codemirror_mode": {
    "name": "ipython",
    "version": 3
   },
   "file_extension": ".py",
   "mimetype": "text/x-python",
   "name": "python",
   "nbconvert_exporter": "python",
   "pygments_lexer": "ipython3",
   "version": "3.7.0"
  }
 },
 "nbformat": 4,
 "nbformat_minor": 2
}
